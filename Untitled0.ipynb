{
  "nbformat": 4,
  "nbformat_minor": 0,
  "metadata": {
    "colab": {
      "name": "Untitled0.ipynb",
      "provenance": [],
      "authorship_tag": "ABX9TyObWU6SPlm6tmPuHPlb9HvE",
      "include_colab_link": true
    },
    "kernelspec": {
      "name": "python3",
      "display_name": "Python 3"
    },
    "language_info": {
      "name": "python"
    }
  },
  "cells": [
    {
      "cell_type": "markdown",
      "metadata": {
        "id": "view-in-github",
        "colab_type": "text"
      },
      "source": [
        "<a href=\"https://colab.research.google.com/github/vilacco/regression/blob/main/Untitled0.ipynb\" target=\"_parent\"><img src=\"https://colab.research.google.com/assets/colab-badge.svg\" alt=\"Open In Colab\"/></a>"
      ]
    },
    {
      "cell_type": "code",
      "metadata": {
        "id": "_fEgIjwLK2V2"
      },
      "source": [
        "import matplotlib.pyplot as plt\n",
        "import pandas as pd\n",
        "import numpy as np\n",
        "df = pd.DataFrame({'x':[0.9, 4.11, 4.82, 8.53, 8.9],'y':[1.91, 1.84, 4.47, 6.38, 3.92]}) "
      ],
      "execution_count": 1,
      "outputs": []
    },
    {
      "cell_type": "code",
      "metadata": {
        "colab": {
          "base_uri": "https://localhost:8080/",
          "height": 297
        },
        "id": "U9lCLn_UK9MY",
        "outputId": "634aca4d-37c2-4ec2-9891-9c4e401fc5fd"
      },
      "source": [
        "df.plot(x = 'x', y = 'y', kind = 'scatter')"
      ],
      "execution_count": 2,
      "outputs": [
        {
          "output_type": "execute_result",
          "data": {
            "text/plain": [
              "<matplotlib.axes._subplots.AxesSubplot at 0x7f87430ecfd0>"
            ]
          },
          "metadata": {},
          "execution_count": 2
        },
        {
          "output_type": "display_data",
          "data": {
            "image/png": "[encoded data removed]",
            "text/plain": [
              "<Figure size 432x288 with 1 Axes>"
            ]
          },
          "metadata": {
            "needs_background": "light"
          }
        }
      ]
    },
    {
      "cell_type": "code",
      "metadata": {
        "id": "-c8pMKw5K-yD"
      },
      "source": [
        "m,b = 1,1"
      ],
      "execution_count": 3,
      "outputs": []
    },
    {
      "cell_type": "code",
      "metadata": {
        "id": "5iDhVgl6LAyt"
      },
      "source": [
        "df['y_pred_0'] = df['x'] * m + b"
      ],
      "execution_count": 4,
      "outputs": []
    },
    {
      "cell_type": "code",
      "metadata": {
        "colab": {
          "base_uri": "https://localhost:8080/",
          "height": 283
        },
        "id": "qp2ZrdqZLB9U",
        "outputId": "b541cfb7-e7fd-4fc9-bdab-67c7d2a79579"
      },
      "source": [
        "plt.scatter(df['x'],df['y'])\n",
        "plt.plot(df['x'],df['y_pred_0'])"
      ],
      "execution_count": 5,
      "outputs": [
        {
          "output_type": "execute_result",
          "data": {
            "text/plain": [
              "[<matplotlib.lines.Line2D at 0x7f8742929690>]"
            ]
          },
          "metadata": {},
          "execution_count": 5
        },
        {
          "output_type": "display_data",
          "data": {
            "image/png": "[encoded data removed]",
            "text/plain": [
              "<Figure size 432x288 with 1 Axes>"
            ]
          },
          "metadata": {
            "needs_background": "light"
          }
        }
      ]
    },
    {
      "cell_type": "code",
      "metadata": {
        "id": "1N5gPvgULDFi"
      },
      "source": [
        "df['abs_error'] = np.abs(df['y'] - df['y_pred_0'])"
      ],
      "execution_count": 6,
      "outputs": []
    },
    {
      "cell_type": "code",
      "metadata": {
        "colab": {
          "base_uri": "https://localhost:8080/"
        },
        "id": "2njjyoPpLEXA",
        "outputId": "618e6cf0-1e08-4685-a7d2-b59b69e2e8fb"
      },
      "source": [
        "df['abs_error'].mean()"
      ],
      "execution_count": 7,
      "outputs": [
        {
          "output_type": "execute_result",
          "data": {
            "text/plain": [
              "2.7520000000000002"
            ]
          },
          "metadata": {},
          "execution_count": 7
        }
      ]
    },
    {
      "cell_type": "code",
      "metadata": {
        "id": "liQ3wXt_LFSt"
      },
      "source": [
        "df['change_m'] = df['x'] * np.sign(df['y'] - df['y_pred_0'])\n",
        "df['change_b'] = np.sign(df['y'] - df['y_pred_0'])"
      ],
      "execution_count": 9,
      "outputs": []
    },
    {
      "cell_type": "code",
      "metadata": {
        "id": "WpOUkDPnLGzh"
      },
      "source": [
        "l_rate = 0.1\n",
        "new_m = m + l_rate * df['change_m'].mean()\n",
        "new_b = b + l_rate * df['change_b'].mean()"
      ],
      "execution_count": 10,
      "outputs": []
    },
    {
      "cell_type": "code",
      "metadata": {
        "colab": {
          "base_uri": "https://localhost:8080/"
        },
        "id": "iUTb1eHqLJCI",
        "outputId": "980cbcdb-8ccf-42ff-df29-7216c68d1299"
      },
      "source": [
        "m,b, '/', new_m, new_b\n"
      ],
      "execution_count": 11,
      "outputs": [
        {
          "output_type": "execute_result",
          "data": {
            "text/plain": [
              "(1, 1, '/', 0.4907999999999999, 0.94)"
            ]
          },
          "metadata": {},
          "execution_count": 11
        }
      ]
    },
    {
      "cell_type": "code",
      "metadata": {
        "id": "nnal7yQ7LKFd"
      },
      "source": [
        "df['y_pred_1'] = df['x'] * new_m + new_b"
      ],
      "execution_count": 12,
      "outputs": []
    },
    {
      "cell_type": "code",
      "metadata": {
        "colab": {
          "base_uri": "https://localhost:8080/",
          "height": 283
        },
        "id": "AZq9JxiNLLkb",
        "outputId": "a52d22aa-f1ba-453a-ea90-f5ef5888451f"
      },
      "source": [
        "plt.scatter(df['x'],df['y'])\n",
        "plt.plot(df['x'],df['y_pred_1'])\n"
      ],
      "execution_count": 13,
      "outputs": [
        {
          "output_type": "execute_result",
          "data": {
            "text/plain": [
              "[<matplotlib.lines.Line2D at 0x7f8742876d50>]"
            ]
          },
          "metadata": {},
          "execution_count": 13
        },
        {
          "output_type": "display_data",
          "data": {
            "image/png": "[encoded data removed]",
            "text/plain": [
              "<Figure size 432x288 with 1 Axes>"
            ]
          },
          "metadata": {
            "needs_background": "light"
          }
        }
      ]
    },
    {
      "cell_type": "code",
      "metadata": {
        "colab": {
          "base_uri": "https://localhost:8080/"
        },
        "id": "50fjiuD5LMlG",
        "outputId": "ded54766-4280-4538-edc1-3a7cdaa3cc4d"
      },
      "source": [
        "df['abs_error'] = np.abs(df['y'] - df['y_pred_1'])\n",
        "df['abs_error'].mean()"
      ],
      "execution_count": 14,
      "outputs": [
        {
          "output_type": "execute_result",
          "data": {
            "text/plain": [
              "1.0902816000000002"
            ]
          },
          "metadata": {},
          "execution_count": 14
        }
      ]
    },
    {
      "cell_type": "code",
      "metadata": {
        "id": "oFGv99nCLNv8"
      },
      "source": [
        "m,b = 1,1\n",
        "n = 10\n",
        "l_rate = 0.05"
      ],
      "execution_count": 15,
      "outputs": []
    },
    {
      "cell_type": "code",
      "metadata": {
        "id": "PBisuxgULQrc"
      },
      "source": [
        "df['y_pred_0'] = df['x'] * m + b"
      ],
      "execution_count": 16,
      "outputs": []
    },
    {
      "cell_type": "code",
      "metadata": {
        "colab": {
          "base_uri": "https://localhost:8080/"
        },
        "id": "t_ukFdOhLRwC",
        "outputId": "fa85401e-2346-4bd7-e363-f5703dd6ad32"
      },
      "source": [
        "for i in range(n):\n",
        "    df['change_m'] = df['x'] * np.sign(df['y'] - df['y_pred_0'])\n",
        "    df['change_b'] = np.sign(df['y'] - df['y_pred_0'])\n",
        "    m = m + l_rate * df['change_m'].mean()\n",
        "    b = b + l_rate * df['change_b'].mean()\n",
        "    df['y_pred_0'] = df['x'] * m + b\n",
        "    df['abs_error'] = np.abs(df['y'] - df['y_pred_0'])\n",
        "    print(df['abs_error'].mean())\n",
        "\n"
      ],
      "execution_count": 18,
      "outputs": [
        {
          "output_type": "stream",
          "name": "stdout",
          "text": [
            "1.4375767999999998\n",
            "1.0902816000000002\n",
            "1.0852064000000001\n",
            "1.0801311999999998\n",
            "1.075056\n",
            "1.0699808000000002\n",
            "1.0649056\n",
            "1.0598304000000003\n",
            "1.0547552000000002\n",
            "1.0496800000000002\n"
          ]
        }
      ]
    },
    {
      "cell_type": "code",
      "metadata": {
        "id": "_l3SPQhpLS4v"
      },
      "source": [
        ""
      ],
      "execution_count": null,
      "outputs": []
    }
  ]
}